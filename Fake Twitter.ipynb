{
 "cells": [
  {
   "cell_type": "code",
   "execution_count": 1,
   "metadata": {},
   "outputs": [],
   "source": [
    "import pandas as pd\n",
    "import numpy as np\n",
    "from sklearn.model_selection import train_test_split\n",
    "from sklearn.metrics import confusion_matrix"
   ]
  },
  {
   "cell_type": "markdown",
   "metadata": {},
   "source": [
    "# Loading Data"
   ]
  },
  {
   "cell_type": "code",
   "execution_count": 5,
   "metadata": {},
   "outputs": [],
   "source": [
    "data = dict()\n",
    "data[\"fake\"]  = pd.read_csv(\"fusers.csv\")\n",
    "data[\"legit\"] = pd.read_csv(\"users.csv\")"
   ]
  },
  {
   "cell_type": "markdown",
   "metadata": {},
   "source": [
    "# Removing unnecessary columns"
   ]
  },
  {
   "cell_type": "code",
   "execution_count": 6,
   "metadata": {},
   "outputs": [],
   "source": [
    "data[\"legit\"] = data[\"legit\"].drop([\"id\", \"name\", \"screen_name\", \"created_at\", \"lang\", \"location\", \"default_profile\", \"default_profile_image\", \"geo_enabled\", \"profile_image_url\", \"profile_banner_url\", \"profile_use_background_image\", \"profile_background_image_url_https\", \"profile_text_color\", \"profile_image_url_https\", \"profile_sidebar_border_color\", \"profile_background_tile\", \"profile_sidebar_fill_color\", \"profile_background_image_url\", \"profile_background_color\", \"profile_link_color\", \"utc_offset\", \"protected\", \"verified\", \"dataset\", \"updated\", \"description\"], axis=1)\n",
    "data[\"fake\"]  = data[\"fake\"].drop([\"id\", \"name\", \"screen_name\", \"created_at\", \"lang\", \"location\", \"default_profile\", \"default_profile_image\", \"geo_enabled\", \"profile_image_url\", \"profile_banner_url\", \"profile_use_background_image\", \"profile_background_image_url_https\", \"profile_text_color\", \"profile_image_url_https\", \"profile_sidebar_border_color\", \"profile_background_tile\", \"profile_sidebar_fill_color\", \"profile_background_image_url\", \"profile_background_color\", \"profile_link_color\", \"utc_offset\", \"protected\", \"verified\", \"dataset\", \"updated\", \"description\"], axis=1)"
   ]
  },
  {
   "cell_type": "code",
   "execution_count": 7,
   "metadata": {
    "scrolled": true
   },
   "outputs": [
    {
     "name": "stdout",
     "output_type": "stream",
     "text": [
      "Final Available Columns\n"
     ]
    },
    {
     "data": {
      "text/plain": [
       "Index(['statuses_count', 'followers_count', 'friends_count',\n",
       "       'favourites_count', 'listed_count', 'url', 'time_zone'],\n",
       "      dtype='object')"
      ]
     },
     "execution_count": 7,
     "metadata": {},
     "output_type": "execute_result"
    }
   ],
   "source": [
    "print(\"Final Available Columns\")\n",
    "data[\"legit\"].columns"
   ]
  },
  {
   "cell_type": "markdown",
   "metadata": {},
   "source": [
    "# Converting DataFrame to Numpy Array"
   ]
  },
  {
   "cell_type": "code",
   "execution_count": 8,
   "metadata": {},
   "outputs": [],
   "source": [
    "data[\"legit\"] = data[\"legit\"].values\n",
    "data[\"fake\"] = data[\"fake\"].values"
   ]
  },
  {
   "cell_type": "markdown",
   "metadata": {},
   "source": [
    "# Checking Availability of `URL` and `Time Zone`"
   ]
  },
  {
   "cell_type": "code",
   "execution_count": 9,
   "metadata": {},
   "outputs": [],
   "source": [
    "for i in range(len(data[\"legit\"])):\n",
    "    if type(data[\"legit\"][i][5]) == str:\n",
    "        data[\"legit\"][i][5] = 1\n",
    "    \n",
    "    if type(data[\"legit\"][i][6]) == str:\n",
    "        data[\"legit\"][i][6] = 1\n",
    "        \n",
    "for i in range(len(data[\"fake\"])):\n",
    "    if type(data[\"fake\"][i][5]) == str:\n",
    "        data[\"fake\"][i][5] = 1\n",
    "    \n",
    "    if type(data[\"fake\"][i][6]) == str:\n",
    "        data[\"fake\"][i][6] = 1"
   ]
  },
  {
   "cell_type": "markdown",
   "metadata": {},
   "source": [
    "# Changing DataType of data to `float64`"
   ]
  },
  {
   "cell_type": "code",
   "execution_count": 28,
   "metadata": {},
   "outputs": [],
   "source": [
    "data[\"legit\"] = data[\"legit\"].astype(np.float64)\n",
    "data[\"fake\"] = data[\"fake\"].astype(np.float64)"
   ]
  },
  {
   "cell_type": "markdown",
   "metadata": {},
   "source": [
    "# Changing all `NaN` to `0`"
   ]
  },
  {
   "cell_type": "code",
   "execution_count": 29,
   "metadata": {},
   "outputs": [],
   "source": [
    "where_nans = np.isnan(data[\"legit\"])\n",
    "data[\"legit\"][where_nans] = 0\n",
    "\n",
    "where_nans = np.isnan(data[\"fake\"])\n",
    "data[\"fake\"][where_nans] = 0"
   ]
  },
  {
   "cell_type": "markdown",
   "metadata": {},
   "source": [
    "# Creating merged dataset from legit and fake profile dataset."
   ]
  },
  {
   "cell_type": "code",
   "execution_count": 30,
   "metadata": {},
   "outputs": [],
   "source": [
    "X = np.zeros((len(data[\"fake\"]) + len(data[\"legit\"]), 7))\n",
    "Y = np.zeros(len(data[\"fake\"]) + len(data[\"legit\"]))"
   ]
  },
  {
   "cell_type": "code",
   "execution_count": 76,
   "metadata": {},
   "outputs": [],
   "source": [
    "for i in range(len(data[\"legit\"])):\n",
    "    X[i] = data[\"legit\"][i]/max(data[\"legit\"][i])\n",
    "    Y[i] = -1\n",
    "\n",
    "for i in range(len(data[\"fake\"])):\n",
    "    bound = max(data[\"fake\"][i])\n",
    "    if bound == 0:\n",
    "        bound = 1\n",
    "    \n",
    "    X[len(data[\"legit\"])+i] = data[\"fake\"][i]/bound # Normalizing Data [0 <--> 1]\n",
    "    Y[len(data[\"legit\"])+i] = 1"
   ]
  },
  {
   "cell_type": "markdown",
   "metadata": {},
   "source": [
    "# Splitting Dataset into Train and Test"
   ]
  },
  {
   "cell_type": "code",
   "execution_count": 32,
   "metadata": {},
   "outputs": [],
   "source": [
    "X_train, X_test, y_train, y_test = train_test_split( X, Y, \n",
    "    test_size=0.24, random_state=42)"
   ]
  },
  {
   "cell_type": "markdown",
   "metadata": {},
   "source": [
    "# Loading Deep Learning libraries"
   ]
  },
  {
   "cell_type": "code",
   "execution_count": 110,
   "metadata": {},
   "outputs": [],
   "source": [
    "from keras.models import Sequential\n",
    "from keras.optimizers import SGD\n",
    "from keras.layers import Dense, BatchNormalization, Activation, Dropout\n",
    "from keras.callbacks import EarlyStopping, Callback\n",
    "\n",
    "from IPython.display import clear_output"
   ]
  },
  {
   "cell_type": "markdown",
   "metadata": {},
   "source": [
    "## Initializing Early Stopping Callback to prevent training proceed to overfitting."
   ]
  },
  {
   "cell_type": "code",
   "execution_count": 108,
   "metadata": {},
   "outputs": [],
   "source": [
    "early_stopping = EarlyStopping(monitor='val_loss', patience=2)"
   ]
  },
  {
   "cell_type": "markdown",
   "metadata": {},
   "source": [
    "# Creating Accuracy Loss Graph callback"
   ]
  },
  {
   "cell_type": "code",
   "execution_count": 111,
   "metadata": {},
   "outputs": [],
   "source": [
    "class PlotLearning(Callback):\n",
    "    def on_train_begin(self, logs={}):\n",
    "        self.i = 0\n",
    "        self.x = []\n",
    "        self.losses = []\n",
    "        self.val_losses = []\n",
    "        self.acc = []\n",
    "        self.val_acc = []\n",
    "        self.fig = plt.figure()\n",
    "        \n",
    "        self.logs = []\n",
    "        \n",
    "\n",
    "    def on_epoch_end(self, epoch, logs={}):\n",
    "        \n",
    "        self.logs.append(logs)\n",
    "        self.x.append(self.i)\n",
    "        self.losses.append(logs.get('loss'))\n",
    "        self.val_losses.append(logs.get('val_loss'))\n",
    "        self.acc.append(logs.get('acc'))\n",
    "        self.val_acc.append(logs.get('val_acc'))\n",
    "        self.i += 1\n",
    "        f, (ax1, ax2) = plt.subplots(1, 2, sharex=True)\n",
    "        \n",
    "        clear_output(wait=True)\n",
    "        \n",
    "        ax1.set_yscale('Log')\n",
    "        ax1.plot(self.x, self.losses, label=\"loss\")\n",
    "        ax1.plot(self.x, self.val_losses, label=\"val_loss\")\n",
    "        ax1.legend()\n",
    "        \n",
    "        ax2.plot(self.x, self.acc, label=\"accuracy\")\n",
    "        ax2.plot(self.x, self.val_acc, label=\"validation accuracy\")\n",
    "        ax2.legend()\n",
    "        \n",
    "        plt.show();\n",
    "        \n",
    "        \n",
    "plot = PlotLearning()"
   ]
  },
  {
   "cell_type": "markdown",
   "metadata": {},
   "source": [
    "##  Building Predictive Model"
   ]
  },
  {
   "cell_type": "code",
   "execution_count": 112,
   "metadata": {},
   "outputs": [
    {
     "name": "stdout",
     "output_type": "stream",
     "text": [
      "_________________________________________________________________\n",
      "Layer (type)                 Output Shape              Param #   \n",
      "=================================================================\n",
      "batch_normalization_29 (Batc (None, 7)                 28        \n",
      "_________________________________________________________________\n",
      "dense_37 (Dense)             (None, 16)                128       \n",
      "_________________________________________________________________\n",
      "batch_normalization_30 (Batc (None, 16)                64        \n",
      "_________________________________________________________________\n",
      "dense_38 (Dense)             (None, 8)                 136       \n",
      "_________________________________________________________________\n",
      "batch_normalization_31 (Batc (None, 8)                 32        \n",
      "_________________________________________________________________\n",
      "dense_39 (Dense)             (None, 1)                 9         \n",
      "=================================================================\n",
      "Total params: 397\n",
      "Trainable params: 335\n",
      "Non-trainable params: 62\n",
      "_________________________________________________________________\n"
     ]
    }
   ],
   "source": [
    "model = Sequential([\n",
    "    BatchNormalization(),\n",
    "    \n",
    "    Dense(16, activation=\"relu\", kernel_regularizer=\"l2\"),\n",
    "    BatchNormalization(),\n",
    "    Dense(8, activation=\"relu\", kernel_regularizer=\"l2\"),\n",
    "    BatchNormalization(),\n",
    "    Dense(1, activation=\"tanh\"),\n",
    "])\n",
    "\n",
    "model.build((None, X.shape[1]))\n",
    "model.summary()\n",
    "model.compile(\n",
    "    optimizer=\"adadelta\",\n",
    "    loss=\"binary_crossentropy\",\n",
    "    metrics=[\"acc\"]\n",
    ")"
   ]
  },
  {
   "cell_type": "markdown",
   "metadata": {},
   "source": [
    "# Iterative Training Process Begins..."
   ]
  },
  {
   "cell_type": "code",
   "execution_count": 113,
   "metadata": {},
   "outputs": [
    {
     "data": {
      "image/png": "[encoded data removed]",
      "text/plain": [
       "<Figure size 432x288 with 2 Axes>"
      ]
     },
     "metadata": {
      "needs_background": "light"
     },
     "output_type": "display_data"
    },
    {
     "data": {
      "text/plain": [
       "<keras.callbacks.History at 0x1d2a846f8d0>"
      ]
     },
     "execution_count": 113,
     "metadata": {},
     "output_type": "execute_result"
    }
   ],
   "source": [
    "model.fit(X_train, y_train, epochs=100, validation_data=(X_test, y_test), shuffle=True, batch_size=100, callbacks=[early_stopping, plot])"
   ]
  },
  {
   "cell_type": "code",
   "execution_count": 114,
   "metadata": {},
   "outputs": [],
   "source": [
    "logits = model.predict(X_test).T[0]"
   ]
  },
  {
   "cell_type": "code",
   "execution_count": 115,
   "metadata": {},
   "outputs": [],
   "source": [
    "for i in range(len(logits)):\n",
    "    logits[i] = -1 if logits[i] < 0 else 1"
   ]
  },
  {
   "cell_type": "code",
   "execution_count": 116,
   "metadata": {},
   "outputs": [],
   "source": [
    "import matplotlib.pyplot as plt\n",
    "def plot_confusion_matrix(cm, title='CONFUSION MATRIX', cmap=plt.cm.Reds):\n",
    "    target_names=['Fake','Genuine']\n",
    "    plt.imshow(cm, interpolation='nearest', cmap=cmap)\n",
    "    plt.title(title)\n",
    "    plt.colorbar()\n",
    "    tick_marks = np.arange(len(target_names))\n",
    "    plt.xticks(tick_marks, target_names, rotation=45)\n",
    "    plt.yticks(tick_marks, target_names)\n",
    "    plt.tight_layout()\n",
    "    plt.ylabel('True label')\n",
    "    plt.xlabel('Predicted label')"
   ]
  },
  {
   "cell_type": "code",
   "execution_count": 117,
   "metadata": {},
   "outputs": [
    {
     "name": "stdout",
     "output_type": "stream",
     "text": [
      "[[357   1]\n",
      " [  3 316]]\n"
     ]
    }
   ],
   "source": [
    "mat = confusion_matrix(y_test, logits)\n",
    "print(mat)"
   ]
  },
  {
   "cell_type": "code",
   "execution_count": 118,
   "metadata": {},
   "outputs": [
    {
     "data": {
      "image/png": "[encoded data removed]",
      "text/plain": [
       "<Figure size 432x288 with 2 Axes>"
      ]
     },
     "metadata": {
      "needs_background": "light"
     },
     "output_type": "display_data"
    }
   ],
   "source": [
    "plot_confusion_matrix(mat)"
   ]
  },
  {
   "cell_type": "markdown",
   "metadata": {},
   "source": [
    "# Validation Accuracy"
   ]
  },
  {
   "cell_type": "code",
   "execution_count": 119,
   "metadata": {},
   "outputs": [
    {
     "name": "stdout",
     "output_type": "stream",
     "text": [
      "2141/2141 [==============================] - 0s 110us/step\n",
      "677/677 [==============================] - 0s 126us/step\n",
      "Train Accuracy: 0.9822512841959636\n",
      "Validation Accuracy: 0.9793205317577548\n"
     ]
    }
   ],
   "source": [
    "_, train_acc = model.evaluate(X_train, y_train)\n",
    "_, val_acc = model.evaluate(X_test, y_test)\n",
    "print(\"Train Accuracy:\", train_acc)\n",
    "print(\"Validation Accuracy:\", val_acc)"
   ]
  }
 ],
 "metadata": {
  "kernelspec": {
   "display_name": "Python 3 (ipykernel)",
   "language": "python",
   "name": "python3"
  },
  "language_info": {
   "codemirror_mode": {
    "name": "ipython",
    "version": 3
   },
   "file_extension": ".py",
   "mimetype": "text/x-python",
   "name": "python",
   "nbconvert_exporter": "python",
   "pygments_lexer": "ipython3",
   "version": "3.9.7"
  }
 },
 "nbformat": 4,
 "nbformat_minor": 2
}
